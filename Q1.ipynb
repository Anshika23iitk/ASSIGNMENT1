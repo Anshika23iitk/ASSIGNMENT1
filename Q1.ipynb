{
 "cells": [
  {
   "metadata": {
    "ExecuteTime": {
     "end_time": "2024-12-17T18:04:08.306599Z",
     "start_time": "2024-12-17T18:04:08.082242Z"
    }
   },
   "cell_type": "code",
   "source": [
    "import matplotlib.pyplot as plt\n",
    "from PIL import Image\n",
    "\n",
    "def show(name, n, m, i, Title):\n",
    "    \"\"\"\n",
    "    Displays an image in a subplot grid.\n",
    "\n",
    "    Parameters:\n",
    "    - name: Image data to be displayed (2D or 3D array).\n",
    "    - n: Number of rows in the subplot grid.\n",
    "    - m: Number of columns in the subplot grid.\n",
    "    - i: Index of the subplot (1-based indexing).\n",
    "    - Title: Title for the image.\n",
    "    \"\"\"\n",
    "    plt.subplot(n, m, i)\n",
    "    plt.imshow(name, cmap='gray')  # Using grayscale colormap\n",
    "    plt.title(Title)\n",
    "    plt.axis('off')\n",
    "\n",
    "\n",
    "# Load custom images\n",
    "image_paths = [\"C:\\\\Users\\\\ADMIN\\\\OneDrive\\\\download (2).jpeg\"]  # Replace with your file paths\n",
    "images = []\n",
    "\n",
    "# Using PIL to load images\n",
    "for path in image_paths:\n",
    "    try:\n",
    "        img = Image.open(path).convert(\"L\")  # Convert to grayscale\n",
    "        images.append(img)\n",
    "    except FileNotFoundError:\n",
    "        print(f\"Error: File not found at {path}\")\n",
    "\n",
    "# Display images in a grid\n",
    "plt.figure(figsize=(10, 8))\n",
    "for idx, img in enumerate(images, start=1):\n",
    "    show(img, 1, len(images), idx, f\"Image {idx}\")  # Adjust grid dimensions dynamically\n",
    "plt.tight_layout()\n",
    "plt.show()\n",
    "\n",
    "C:\\\\Users\\\\ADMIN\\\\Downloads\n",
    "C:\\\\Users\\\\ADMIN\n",
    "https://static.vecteezy.com/system/resources/previews/029/214/620/non_2x/hand-holding-colorful-arrangements-flowers-bright-and-sunny-day-with-simple-aesthetic-romantic-vibes-perfect-for-wedding-greeting-card-flower-card-and-more-photo.jpg'\n",
    "'https://i.pinimg.com/736x/1f/e7/e5/1fe7e58662e627bb8f974abf8e5265bc.jpg'\n",
    "C:\\\\Users\\\\ADMIN\\\\OneDrive\\\\Pictures\\\\Screenshots\\\\Screenshot 2024-12-17 180621.png"
   ],
   "id": "b97f38fca90e00d8",
   "outputs": [
    {
     "ename": "SyntaxError",
     "evalue": "invalid decimal literal (366222932.py, line 9)",
     "output_type": "error",
     "traceback": [
      "\u001B[1;36m  Cell \u001B[1;32mIn[2], line 9\u001B[1;36m\u001B[0m\n\u001B[1;33m    - name: Image data to be displayed (2D or 3D array).\u001B[0m\n\u001B[1;37m                                        ^\u001B[0m\n\u001B[1;31mSyntaxError\u001B[0m\u001B[1;31m:\u001B[0m invalid decimal literal\n"
     ]
    }
   ],
   "execution_count": 2
  }
 ],
 "metadata": {
  "kernelspec": {
   "name": "python3",
   "language": "python",
   "display_name": "Python 3 (ipykernel)"
  }
 },
 "nbformat": 5,
 "nbformat_minor": 9
}
