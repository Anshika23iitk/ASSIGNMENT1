{
 "cells": [
  {
   "metadata": {},
   "cell_type": "code",
   "outputs": [],
   "execution_count": null,
   "source": [
    "import matplotlib.pyplot as plt\n",
    "from PIL import Image\n",
    "\n",
    "def show(name, n, m, i, Title):\n",
    "    \"\"\"\n",
    "    Displays an image in a subplot grid.\n",
    "\n",
    "    Parameters:\n",
    "    - name: Image data to be displayed (2D or 3D array).\n",
    "    - n: Number of rows in the subplot grid.\n",
    "    - m: Number of columns in the subplot grid.\n",
    "    - i: Index of the subplot (1-based indexing).\n",
    "    - Title: Title for the image.\n",
    "    \"\"\"\n",
    "    plt.subplot(n, m, i)\n",
    "    plt.imshow(name, cmap='gray')  # Using grayscale colormap\n",
    "    plt.title(Title)\n",
    "    plt.axis('off')\n",
    "\n",
    "\n",
    "# Load custom images\n",
    "image_paths = [\"C:\\\\Users\\\\ADMIN\\\\OneDrive\\\\download (2).jpeg\"]  # Replace with your file paths\n",
    "images = []\n",
    "\n",
    "# Using PIL to load images\n",
    "for path in image_paths:\n",
    "    try:\n",
    "        img = Image.open(path).convert(\"L\")  # Convert to grayscale\n",
    "        images.append(img)\n",
    "    except FileNotFoundError:\n",
    "        print(f\"Error: File not found at {path}\")\n",
    "\n",
    "# Display images in a grid\n",
    "plt.figure(figsize=(10, 8))\n",
    "for idx, img in enumerate(images, start=1):\n",
    "    show(img, 1, len(images), idx, f\"Image {idx}\")  # Adjust grid dimensions dynamically\n",
    "plt.tight_layout()\n",
    "plt.show()\n",
    "\n"
   ],
   "id": "467106b028d14abd"
  }
 ],
 "metadata": {
  "kernelspec": {
   "name": "python3",
   "language": "python",
   "display_name": "Python 3 (ipykernel)"
  }
 },
 "nbformat": 5,
 "nbformat_minor": 9
}
